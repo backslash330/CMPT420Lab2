{
 "cells": [
  {
   "cell_type": "code",
   "execution_count": null,
   "metadata": {},
   "outputs": [],
   "source": [
    "# **** Lab 2 - CMPT420 ****\n",
    "# Name: Nicholas Almeida\n",
    "# Student Number: 200285"
   ]
  },
  {
   "cell_type": "code",
   "execution_count": null,
   "metadata": {},
   "outputs": [],
   "source": [
    "# write a function Biseciton (f, lower, upper, errorBond) where\n",
    "# f is a function in variable x such that f(lower)f(upper) < 0\n",
    "# lower is a real number less than the real number upper\n",
    "# errorBond is a real number\n",
    "# returns the result of the Biseciton method of f(X) on the interval [lower, upper]"
   ]
  },
  {
   "cell_type": "code",
   "execution_count": 3,
   "metadata": {},
   "outputs": [
    {
     "name": "stdout",
     "output_type": "stream",
     "text": [
      "Bisection Method\n",
      "-1.04687500000000\n"
     ]
    }
   ],
   "source": [
    "def Bisection(f, lower, upper, errorBound):\n",
    "    # check if f(lower)f(upper) < 0\n",
    "    # if f(lower) * f(upper) >= 0:\n",
    "    #     print(\"You have not assumed right a and b\")\n",
    "    #     return None\n",
    "\n",
    "    # set c to the midpoint of lower and upper\n",
    "    c = (lower + upper) / 2\n",
    "\n",
    "    # while the absolute value of f(c) is greater than the error bound\n",
    "    while  f(c) != 0 and (upper-lower) >= errorBound:\n",
    "        # if f(lower)f(c) < 0\n",
    "        if f(lower) * f(c) < 0:\n",
    "            # set upper to c\n",
    "            upper = c\n",
    "        # else\n",
    "        else:\n",
    "            # set lower to c\n",
    "            lower = c\n",
    "        # set c to the midpoint of lower and upper\n",
    "        c = (lower + upper) / 2\n",
    "\n",
    "    # return c\n",
    "    return c\n",
    "\n",
    "def f(x):\n",
    "    return 3.7*x^8-7.5*x^3+3*x-10.3\n",
    "\n",
    "print (\"Bisection Method\")\n",
    "print (Bisection(f, -1.5, -0.5, 0.05).n())"
   ]
  },
  {
   "cell_type": "code",
   "execution_count": null,
   "metadata": {},
   "outputs": [],
   "source": [
    "# Write a new function (f, lower, upper, errorBound) that takes the\n",
    "# same parameters as Bisection and returns the same value but also prints\n",
    "# the interval you are searching in each time and checks the conditions on\n",
    "# the parameters are met"
   ]
  },
  {
   "cell_type": "code",
   "execution_count": 2,
   "metadata": {},
   "outputs": [
    {
     "name": "stdout",
     "output_type": "stream",
     "text": [
      "Bisection Method\n",
      "Interval: [ 0 , 64 ]\n",
      "Interval: [ 0 , 32 ]\n",
      "Interval: [ 0 , 16 ]\n",
      "Interval: [ 0 , 8 ]\n",
      "Interval: [ 0 , 4 ]\n",
      "Interval: [ 0 , 2 ]\n",
      "1/2\n",
      "lower >= upper\n",
      "None\n",
      "f(lower) * f(upper) >= 0\n",
      "None\n"
     ]
    }
   ],
   "source": [
    "def Bisection2(f, lower, upper, errorBound):\n",
    "    # check if f(lower)f(upper) < 0\n",
    "    if f(lower) * f(upper) >= 0:\n",
    "        print(\"f(lower) * f(upper) >= 0\")\n",
    "        return None\n",
    "\n",
    "    # check if lower < upper\n",
    "    if lower >= upper:\n",
    "        print(\"lower >= upper\")\n",
    "        return None\n",
    "\n",
    "    # set c to the midpoint of lower and upper\n",
    "    c = (lower + upper) / 2\n",
    "\n",
    "    # while the absolute value of f(c) is greater than the error bound\n",
    "    while f(c) != 0 and (upper-lower) >= errorBound:\n",
    "        # print the interval\n",
    "        print(\"Interval: [\", lower, \",\", upper, \"]\")\n",
    "        # if f(lower)f(c) < 0\n",
    "        if f(lower) * f(c) < 0:\n",
    "            # set upper to c\n",
    "            upper = c\n",
    "        # else\n",
    "        else:\n",
    "            # set lower to c\n",
    "            lower = c\n",
    "        # set c to the midpoint of lower and upper\n",
    "        c = (lower + upper) / 2\n",
    "\n",
    "    # return c\n",
    "    return c\n",
    "\n",
    "def f(x):\n",
    "    return 2*x^5+11*x^4+16*x^3+x^2-4*x-1\n",
    "print (\"Bisection Method\")\n",
    "print (Bisection2(f, 0, 64, 0.0001))\n",
    "print (Bisection2(f, 64, 0, 0.0001))\n",
    "print (Bisection2(f, -5, -5, 0.0001))"
   ]
  }
 ],
 "metadata": {
  "kernelspec": {
   "display_name": "SageMath 9.5",
   "language": "sage",
   "name": "sagemath"
  },
  "language_info": {
   "codemirror_mode": {
    "name": "ipython",
    "version": 3
   },
   "file_extension": ".py",
   "mimetype": "text/x-python",
   "name": "python",
   "nbconvert_exporter": "python",
   "pygments_lexer": "ipython3",
   "version": "3.9.9"
  },
  "orig_nbformat": 4
 },
 "nbformat": 4,
 "nbformat_minor": 2
}
